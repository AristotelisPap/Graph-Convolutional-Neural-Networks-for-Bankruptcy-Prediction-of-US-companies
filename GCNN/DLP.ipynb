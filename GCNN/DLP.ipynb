{
 "cells": [
  {
   "cell_type": "code",
   "execution_count": 0,
   "metadata": {
    "colab": {},
    "colab_type": "code",
    "id": "rVjVSNgLxd45"
   },
   "outputs": [],
   "source": [
    "#@title Imports  { form-width: \"30%\" }\n",
    "from __future__ import division\n",
    "from __future__ import print_function\n",
    "from operator import itemgetter\n",
    "from itertools import combinations\n",
    "import time\n",
    "import os\n",
    "\n",
    "import tensorflow as tf\n",
    "from tensorflow.python.summary.writer.writer import FileWriter\n",
    "import numpy as np\n",
    "import networkx as nx\n",
    "import scipy.sparse as sp\n",
    "from sklearn import metrics\n",
    "import matplotlib.pyplot as plt\n",
    "from tqdm import tqdm\n",
    "import pickle\n",
    "from collections import defaultdict\n",
    "\n",
    "from optimizer import DecagonOptimizer\n",
    "from model import DecagonModel\n",
    "from minibatch import EdgeMinibatchIterator\n",
    "import rank_metrics, preprocessing\n",
    "\n",
    "# config = tf.ConfigProto()\n",
    "# config.gpu_options.allow_growth = True\n",
    "\n",
    "np.random.seed(0)\n",
    "%load_ext autoreload\n",
    "%autoreload 2\n",
    "%load_ext tensorboard.notebook"
   ]
  },
  {
   "cell_type": "code",
   "execution_count": 0,
   "metadata": {
    "colab": {},
    "colab_type": "code",
    "id": "VwYd8y1Hxd5H"
   },
   "outputs": [],
   "source": [
    "def get_accuracy_scores(edges_pos, edges_neg, edge_type):\n",
    "    feed_dict.update({placeholders['dropout']: 0})\n",
    "    feed_dict.update({placeholders['batch_edge_type_idx']: minibatch.edge_type2idx[edge_type]})\n",
    "    feed_dict.update({placeholders['batch_row_edge_type']: edge_type[0]})\n",
    "    feed_dict.update({placeholders['batch_col_edge_type']: edge_type[1]})\n",
    "    rec = sess.run(opt.predictions, feed_dict=feed_dict)\n",
    "\n",
    "    def sigmoid(x):\n",
    "        return 1. / (1 + np.exp(-x))\n",
    "\n",
    "    # Predict on test set of edges\n",
    "    preds = []\n",
    "    actual = []\n",
    "    predicted = []\n",
    "    edge_ind = 0\n",
    "    for u, v in edges_pos[edge_type[:2]][edge_type[2]]:\n",
    "        score = sigmoid(rec[u, v])\n",
    "        preds.append(score)\n",
    "        assert adj_mats_orig[edge_type[:2]][edge_type[2]][u,v] == 1, 'Problem 1'\n",
    "\n",
    "        actual.append(edge_ind)\n",
    "        predicted.append((score, edge_ind))\n",
    "        edge_ind += 1\n",
    "\n",
    "    preds_neg = []\n",
    "    for u, v in edges_neg[edge_type[:2]][edge_type[2]]:\n",
    "        score = sigmoid(rec[u, v])\n",
    "        preds_neg.append(score)\n",
    "        assert adj_mats_orig[edge_type[:2]][edge_type[2]][u,v] == 0, 'Problem 0'\n",
    "\n",
    "        predicted.append((score, edge_ind))\n",
    "        edge_ind += 1\n",
    "        \n",
    "    preds_all = np.hstack([preds, preds_neg])\n",
    "    preds_all = np.nan_to_num(preds_all)\n",
    "    labels_all = np.hstack([np.ones(len(preds)), np.zeros(len(preds_neg))])\n",
    "    predicted = list(zip(*sorted(predicted, reverse=True, key=itemgetter(0))))[1]\n",
    "\n",
    "    roc_sc = metrics.roc_auc_score(labels_all, preds_all)\n",
    "    aupr_sc = metrics.average_precision_score(labels_all, preds_all)\n",
    "    apk_sc = rank_metrics.apk(actual, predicted, k=50)\n",
    "    print(metrics.average_precision_score(labels_all, preds_all))\n",
    "\n",
    "    return roc_sc, aupr_sc, apk_sc\n",
    "\n",
    "\n",
    "def construct_placeholders(edge_types):\n",
    "    placeholders = {\n",
    "        'batch': tf.placeholder(tf.int64, name='batch'),\n",
    "        'batch_edge_type_idx': tf.placeholder(tf.int64, shape=(), name='batch_edge_type_idx'),\n",
    "        'batch_row_edge_type': tf.placeholder(tf.int64, shape=(), name='batch_row_edge_type'),\n",
    "        'batch_col_edge_type': tf.placeholder(tf.int64, shape=(), name='batch_col_edge_type'),\n",
    "        'degrees': tf.placeholder(tf.int64),\n",
    "        'dropout': tf.placeholder_with_default(0., shape=()),\n",
    "    }\n",
    "    placeholders.update({\n",
    "        'adj_mats_%d,%d,%d' % (i, j, k): tf.sparse_placeholder(tf.float32)\n",
    "        for i, j in edge_types for k in range(edge_types[i,j])})\n",
    "    placeholders.update({\n",
    "        'feat_%d' % i: tf.sparse_placeholder(tf.float32)\n",
    "        for i, _ in edge_types})\n",
    "    return placeholders"
   ]
  },
  {
   "cell_type": "code",
   "execution_count": 0,
   "metadata": {
    "colab": {},
    "colab_type": "code",
    "id": "K6eFbH5uxd5Q"
   },
   "outputs": [],
   "source": [
    "val_test_size = 0.05\n",
    "data_folder = \"./\""
   ]
  },
  {
   "cell_type": "code",
   "execution_count": 4,
   "metadata": {
    "colab": {
     "base_uri": "https://localhost:8080/",
     "height": 34
    },
    "colab_type": "code",
    "executionInfo": {
     "elapsed": 2239,
     "status": "ok",
     "timestamp": 1556062149626,
     "user": {
      "displayName": "Ishank Mishra",
      "photoUrl": "",
      "userId": "10943312555956850945"
     },
     "user_tz": 420
    },
    "id": "_m1rQBd3xd5X",
    "outputId": "718bd390-639e-48b9-90e4-2675221eff1a"
   },
   "outputs": [
    {
     "name": "stderr",
     "output_type": "stream",
     "text": [
      "100%|██████████| 20001/20001 [00:00<00:00, 688409.53it/s]\n"
     ]
    }
   ],
   "source": [
    "nodes_map = defaultdict(set)\n",
    "with open(data_folder + \"csvNodes20000_20.pickle\", \"rb\") as _orgf:\n",
    "    for _data in tqdm(pickle.load(_orgf)):\n",
    "        if _data:\n",
    "            _ds = _data.strip().split(\"_\")\n",
    "            nodes_map[_ds[0]].add('_'.join(_ds))\n",
    "    "
   ]
  },
  {
   "cell_type": "code",
   "execution_count": 5,
   "metadata": {
    "colab": {
     "base_uri": "https://localhost:8080/",
     "height": 34
    },
    "colab_type": "code",
    "executionInfo": {
     "elapsed": 2219,
     "status": "ok",
     "timestamp": 1556062149628,
     "user": {
      "displayName": "Ishank Mishra",
      "photoUrl": "",
      "userId": "10943312555956850945"
     },
     "user_tz": 420
    },
    "id": "1kmvPYBqxd5n",
    "outputId": "d16869b7-49af-4596-8bae-b801f53d0609"
   },
   "outputs": [
    {
     "data": {
      "text/plain": [
       "dict_keys(['Organization', 'Person', 'FundingRound', 'Ipo', 'Category', 'Fund', 'Bankruptcy'])"
      ]
     },
     "execution_count": 5,
     "metadata": {
      "tags": []
     },
     "output_type": "execute_result"
    }
   ],
   "source": [
    "nodes_map.keys()"
   ]
  },
  {
   "cell_type": "code",
   "execution_count": 6,
   "metadata": {
    "colab": {
     "base_uri": "https://localhost:8080/",
     "height": 34
    },
    "colab_type": "code",
    "executionInfo": {
     "elapsed": 2473,
     "status": "ok",
     "timestamp": 1556062149905,
     "user": {
      "displayName": "Ishank Mishra",
      "photoUrl": "",
      "userId": "10943312555956850945"
     },
     "user_tz": 420
    },
    "id": "-nE8AlqKxd52",
    "outputId": "9bad380a-746b-4bec-9c7f-196fc50b7977"
   },
   "outputs": [
    {
     "name": "stderr",
     "output_type": "stream",
     "text": [
      "100%|██████████| 34218/34218 [00:00<00:00, 300712.37it/s]\n"
     ]
    }
   ],
   "source": [
    "# Map for Organization ids\n",
    "relationships = {}\n",
    "with open(data_folder + \"csvRelationships20000_20.pickle\", \"rb\") as _orgf:\n",
    "    for _data in tqdm(pickle.load(_orgf)):\n",
    "        if _data:\n",
    "            _ds = _data.strip().split(\"_\")\n",
    "            _key = (_ds[0], _ds[2])\n",
    "            if _key not in relationships: relationships[_key] = defaultdict(list)\n",
    "            _edge, _n1, _n2 = '_'.join(_ds[4:]), '_'.join(_ds[:2]), '_'.join(_ds[2:4])\n",
    "            \n",
    "            if _n1 not in nodes_map[_ds[0]]: nodes_map[_ds[1]].add(_n1)\n",
    "            if _n2 not in nodes_map[_ds[2]]: nodes_map[_ds[3]].add(_n2)\n",
    "            relationships[_key][_edge].append((_n1, _n2))\n",
    "    "
   ]
  },
  {
   "cell_type": "code",
   "execution_count": 7,
   "metadata": {
    "colab": {
     "base_uri": "https://localhost:8080/",
     "height": 54
    },
    "colab_type": "code",
    "executionInfo": {
     "elapsed": 2451,
     "status": "ok",
     "timestamp": 1556062149907,
     "user": {
      "displayName": "Ishank Mishra",
      "photoUrl": "",
      "userId": "10943312555956850945"
     },
     "user_tz": 420
    },
    "id": "sYAgYNK1xd6B",
    "outputId": "03d5d7af-2355-424c-d50f-d415830bc36a"
   },
   "outputs": [
    {
     "data": {
      "text/plain": [
       "dict_keys([('Organization', 'Category'), ('Organization', 'Organization'), ('Organization', 'Person'), ('Organization', 'FundingRound'), ('FundingRound', 'Organization'), ('Organization', 'Ipo'), ('Organization', 'Bankruptcy'), ('Organization', 'Fund')])"
      ]
     },
     "execution_count": 7,
     "metadata": {
      "tags": []
     },
     "output_type": "execute_result"
    }
   ],
   "source": [
    "relationships.keys()"
   ]
  },
  {
   "cell_type": "code",
   "execution_count": 0,
   "metadata": {
    "colab": {},
    "colab_type": "code",
    "id": "EnGBbvTqxd6O"
   },
   "outputs": [],
   "source": []
  },
  {
   "cell_type": "code",
   "execution_count": 0,
   "metadata": {
    "colab": {},
    "colab_type": "code",
    "id": "Iu-9puE2xd6X"
   },
   "outputs": [],
   "source": []
  },
  {
   "cell_type": "code",
   "execution_count": 8,
   "metadata": {
    "colab": {
     "base_uri": "https://localhost:8080/",
     "height": 34
    },
    "colab_type": "code",
    "executionInfo": {
     "elapsed": 2412,
     "status": "ok",
     "timestamp": 1556062149914,
     "user": {
      "displayName": "Ishank Mishra",
      "photoUrl": "",
      "userId": "10943312555956850945"
     },
     "user_tz": 420
    },
    "id": "lpDTEzM1xd6f",
    "outputId": "8caa89bf-c0e7-4e7f-fc43-5bb18c3e77a8"
   },
   "outputs": [
    {
     "name": "stdout",
     "output_type": "stream",
     "text": [
      "4271\n"
     ]
    }
   ],
   "source": [
    "companies, CCI = set(), relationships[('Organization', 'Organization')]\n",
    "\n",
    "for _e in CCI:\n",
    "    for _c1, _c2 in CCI[_e]:\n",
    "        companies.add(_c1)\n",
    "        companies.add(_c2)\n",
    "\n",
    "print(len(companies))"
   ]
  },
  {
   "cell_type": "code",
   "execution_count": 9,
   "metadata": {
    "colab": {
     "base_uri": "https://localhost:8080/",
     "height": 34
    },
    "colab_type": "code",
    "executionInfo": {
     "elapsed": 2402,
     "status": "ok",
     "timestamp": 1556062149915,
     "user": {
      "displayName": "Ishank Mishra",
      "photoUrl": "",
      "userId": "10943312555956850945"
     },
     "user_tz": 420
    },
    "id": "rpz-W_fKxd6q",
    "outputId": "7b2ad85f-97c7-4ee3-ba5f-561ebc3fa8d7"
   },
   "outputs": [
    {
     "data": {
      "text/plain": [
       "8034"
      ]
     },
     "execution_count": 9,
     "metadata": {
      "tags": []
     },
     "output_type": "execute_result"
    }
   ],
   "source": [
    "persons, CPI = set(), relationships[('Organization', 'Person')]\n",
    "\n",
    "for _e in CPI:\n",
    "    for _c, _p in CPI[_e]:\n",
    "        if _c not in companies: companies.add(_c)\n",
    "        persons.add(_p)\n",
    "\n",
    "n_persons = len(persons)\n",
    "map_persons = {_p:_i for _i, _p in enumerate(list(persons))}\n",
    "n_persons\n",
    "\n",
    "# n_companies = len(companies)  \n",
    "# n_compcomp_rel_types = len(relationships[('Organization', 'Organization')])\n",
    "# map_companies = {_p:_i for _i, _p in enumerate(list(companies))}\n",
    "# n_companies, n_persons"
   ]
  },
  {
   "cell_type": "code",
   "execution_count": 10,
   "metadata": {
    "colab": {
     "base_uri": "https://localhost:8080/",
     "height": 34
    },
    "colab_type": "code",
    "executionInfo": {
     "elapsed": 2551,
     "status": "ok",
     "timestamp": 1556062150074,
     "user": {
      "displayName": "Ishank Mishra",
      "photoUrl": "",
      "userId": "10943312555956850945"
     },
     "user_tz": 420
    },
    "id": "53_bKg2bxd61",
    "outputId": "d9c6dbda-fbc1-480a-cd73-f87a7a572e7b"
   },
   "outputs": [
    {
     "data": {
      "text/plain": [
       "(6943, 8034, 1)"
      ]
     },
     "execution_count": 10,
     "metadata": {
      "tags": []
     },
     "output_type": "execute_result"
    }
   ],
   "source": [
    "brps, CBI = set(), relationships[('Organization', 'Bankruptcy')]\n",
    "\n",
    "for _e in CBI:\n",
    "    for _c, _i in CBI[_e]:\n",
    "        if _c not in companies: companies.add(_c)\n",
    "        brps.add(_i)\n",
    "\n",
    "n_brps = len(brps)\n",
    "map_brps = {_p:_i for _i, _p in enumerate(list(brps))}\n",
    "\n",
    "n_companies = len(companies)  \n",
    "n_compcomp_rel_types = len(relationships[('Organization', 'Organization')])\n",
    "map_companies = {_p:_i for _i, _p in enumerate(list(companies))}\n",
    "n_companies, n_persons, n_brps"
   ]
  },
  {
   "cell_type": "code",
   "execution_count": 11,
   "metadata": {
    "colab": {
     "base_uri": "https://localhost:8080/",
     "height": 34
    },
    "colab_type": "code",
    "executionInfo": {
     "elapsed": 2546,
     "status": "ok",
     "timestamp": 1556062150081,
     "user": {
      "displayName": "Ishank Mishra",
      "photoUrl": "",
      "userId": "10943312555956850945"
     },
     "user_tz": 420
    },
    "id": "8bQGUuE5xd6_",
    "outputId": "bb61cc8c-f609-4a01-8e53-fe1b732babb6"
   },
   "outputs": [
    {
     "data": {
      "text/plain": [
       "200"
      ]
     },
     "execution_count": 11,
     "metadata": {
      "tags": []
     },
     "output_type": "execute_result"
    }
   ],
   "source": [
    "len(CBI['WentBankrupt'])"
   ]
  },
  {
   "cell_type": "code",
   "execution_count": 12,
   "metadata": {
    "colab": {
     "base_uri": "https://localhost:8080/",
     "height": 34
    },
    "colab_type": "code",
    "executionInfo": {
     "elapsed": 2683,
     "status": "ok",
     "timestamp": 1556062150229,
     "user": {
      "displayName": "Ishank Mishra",
      "photoUrl": "",
      "userId": "10943312555956850945"
     },
     "user_tz": 420
    },
    "id": "9O7otX_hxd7N",
    "outputId": "1d742ea7-807a-4a26-b66f-96c29687f955"
   },
   "outputs": [
    {
     "name": "stderr",
     "output_type": "stream",
     "text": [
      "100%|██████████| 4/4 [00:00<00:00, 451.81it/s]\n"
     ]
    }
   ],
   "source": [
    "comp_comp_adj_list = []\n",
    "edges_CCI = []\n",
    "for _e in tqdm(CCI):\n",
    "    if len(CCI[_e]) > 228:\n",
    "        _mat = np.array([[map_companies[_u], map_companies[_v]] for _u, _v in CCI[_e]])\n",
    "        _data = np.ones(len(CCI[_e]))\n",
    "        comp_comp_adj_list.append(sp.csr_matrix((_data, (_mat[:, 0], _mat[:, 1])), shape=(n_companies, n_companies)))\n",
    "        edges_CCI.append(_e)\n",
    "comp_degrees_list = [np.array(drug_adj.sum(axis=0)).squeeze() for drug_adj in comp_comp_adj_list]"
   ]
  },
  {
   "cell_type": "code",
   "execution_count": 13,
   "metadata": {
    "colab": {
     "base_uri": "https://localhost:8080/",
     "height": 34
    },
    "colab_type": "code",
    "executionInfo": {
     "elapsed": 2673,
     "status": "ok",
     "timestamp": 1556062150230,
     "user": {
      "displayName": "Ishank Mishra",
      "photoUrl": "",
      "userId": "10943312555956850945"
     },
     "user_tz": 420
    },
    "id": "bo7_DJGCxd7V",
    "outputId": "81dbb930-243e-4a52-f95d-0b206250ebd2"
   },
   "outputs": [
    {
     "data": {
      "text/plain": [
       "['Was_Invested_In_By', 'Aquired']"
      ]
     },
     "execution_count": 13,
     "metadata": {
      "tags": []
     },
     "output_type": "execute_result"
    }
   ],
   "source": [
    "edges_CCI"
   ]
  },
  {
   "cell_type": "code",
   "execution_count": 14,
   "metadata": {
    "colab": {
     "base_uri": "https://localhost:8080/",
     "height": 34
    },
    "colab_type": "code",
    "executionInfo": {
     "elapsed": 2659,
     "status": "ok",
     "timestamp": 1556062150231,
     "user": {
      "displayName": "Ishank Mishra",
      "photoUrl": "",
      "userId": "10943312555956850945"
     },
     "user_tz": 420
    },
    "id": "i4q52rzpxd7d",
    "outputId": "ee522e28-8ffc-422d-b701-8b43e5208010"
   },
   "outputs": [
    {
     "name": "stderr",
     "output_type": "stream",
     "text": [
      "100%|██████████| 4/4 [00:00<00:00, 237.60it/s]\n"
     ]
    }
   ],
   "source": [
    "pers_comp_adj_list = []\n",
    "edges_CPI = []\n",
    "for _e in tqdm(CPI):\n",
    "    if len(CPI[_e]) > 228:\n",
    "        _mat = np.array([[map_persons[_v], map_companies[_u]] for _u, _v in CPI[_e]])    \n",
    "        _data = np.ones(len(CPI[_e]))\n",
    "        pers_comp_adj_list.append(sp.csr_matrix((_data, (_mat[:, 0], _mat[:, 1])), shape=(n_persons, n_companies)))\n",
    "        edges_CPI.append(_e)\n",
    "pers_comp_degrees_list = [np.array(_adj.sum(axis=0)).squeeze() for _adj in pers_comp_adj_list]"
   ]
  },
  {
   "cell_type": "code",
   "execution_count": 15,
   "metadata": {
    "colab": {
     "base_uri": "https://localhost:8080/",
     "height": 34
    },
    "colab_type": "code",
    "executionInfo": {
     "elapsed": 2647,
     "status": "ok",
     "timestamp": 1556062150231,
     "user": {
      "displayName": "Ishank Mishra",
      "photoUrl": "",
      "userId": "10943312555956850945"
     },
     "user_tz": 420
    },
    "id": "lUgP3WVIxd7l",
    "outputId": "05a7213c-ea29-4354-d7d2-1b1b672b4e6d"
   },
   "outputs": [
    {
     "name": "stderr",
     "output_type": "stream",
     "text": [
      "100%|██████████| 1/1 [00:00<00:00, 470.37it/s]\n"
     ]
    }
   ],
   "source": [
    "comp_bankr_adj = []\n",
    "\n",
    "for _e in tqdm(CBI):\n",
    "    if len(CBI[_e]) > 164:\n",
    "        _mat = np.array([[map_companies[_u], map_brps[_v]] for _u, _v in CBI[_e]])    \n",
    "        _data = np.ones(len(CBI[_e]))\n",
    "        comp_bankr_adj.append(sp.csr_matrix((_data, (_mat[:, 0], _mat[:, 1])), shape=(n_companies, 1)))\n",
    "\n",
    "comp_bankr_deg = [np.array(_adj.sum(axis=0)).squeeze() for _adj in comp_bankr_adj]"
   ]
  },
  {
   "cell_type": "code",
   "execution_count": 16,
   "metadata": {
    "colab": {
     "base_uri": "https://localhost:8080/",
     "height": 34
    },
    "colab_type": "code",
    "executionInfo": {
     "elapsed": 2770,
     "status": "ok",
     "timestamp": 1556062150367,
     "user": {
      "displayName": "Ishank Mishra",
      "photoUrl": "",
      "userId": "10943312555956850945"
     },
     "user_tz": 420
    },
    "id": "ltFG1iU_xd7t",
    "outputId": "3255ff92-7655-4d4f-b340-87c3b4628082"
   },
   "outputs": [
    {
     "data": {
      "text/plain": [
       "['Was_Founded_By', 'Employs', 'Was_Invested_In_By', 'Employed']"
      ]
     },
     "execution_count": 16,
     "metadata": {
      "tags": []
     },
     "output_type": "execute_result"
    }
   ],
   "source": [
    "edges_CPI"
   ]
  },
  {
   "cell_type": "code",
   "execution_count": 0,
   "metadata": {
    "colab": {},
    "colab_type": "code",
    "id": "de4m8n4Ixd73"
   },
   "outputs": [],
   "source": [
    "# data representation\n",
    "adj_mats_orig = {\n",
    "#     (0, 0): [pers_adj, pers_adj.transpose(copy=True)],\n",
    "    (0, 1): pers_comp_adj_list,\n",
    "    (1, 0): [x.transpose(copy=True) for x in pers_comp_adj_list],\n",
    "    (1, 1): comp_comp_adj_list + [x.transpose(copy=True) for x in comp_comp_adj_list],\n",
    "    (1, 2): comp_bankr_adj,\n",
    "    (2, 1): [x.transpose(copy=True) for x in comp_bankr_adj]\n",
    "}\n",
    "degrees = {\n",
    "    0: pers_comp_degrees_list,\n",
    "    1: comp_degrees_list + comp_degrees_list,\n",
    "    2: [np.array([np.sum(comp_bankr_adj[0].T)]), np.array([np.sum(comp_bankr_adj[0].T)])]\n",
    "}"
   ]
  },
  {
   "cell_type": "code",
   "execution_count": 18,
   "metadata": {
    "colab": {
     "base_uri": "https://localhost:8080/",
     "height": 34
    },
    "colab_type": "code",
    "executionInfo": {
     "elapsed": 2756,
     "status": "ok",
     "timestamp": 1556062150373,
     "user": {
      "displayName": "Ishank Mishra",
      "photoUrl": "",
      "userId": "10943312555956850945"
     },
     "user_tz": 420
    },
    "id": "85McKY2exd77",
    "outputId": "6edb000a-856e-4510-e3d8-f68edc2badb9"
   },
   "outputs": [
    {
     "data": {
      "text/plain": [
       "(6943, 1)"
      ]
     },
     "execution_count": 18,
     "metadata": {
      "tags": []
     },
     "output_type": "execute_result"
    }
   ],
   "source": [
    "comp_bankr_adj[0].shape"
   ]
  },
  {
   "cell_type": "code",
   "execution_count": 0,
   "metadata": {
    "colab": {},
    "colab_type": "code",
    "id": "gmvdPOB1xd8A"
   },
   "outputs": [],
   "source": [
    "# feature (Person)\n",
    "pers_feat = sp.identity(n_persons)\n",
    "pers_nonzero_feat, pers_num_feat = pers_feat.shape\n",
    "pers_feat = preprocessing.sparse_to_tuple(pers_feat.tocoo())\n",
    "\n",
    "# features (Company)\n",
    "comp_feat = sp.identity(n_companies)\n",
    "comp_nonzero_feat, comp_num_feat = comp_feat.shape\n",
    "comp_feat = preprocessing.sparse_to_tuple(comp_feat.tocoo())\n",
    "\n",
    "# features (Bankruptcy)\n",
    "n_bankruptcy = 1\n",
    "banrp_feat = sp.identity(n_bankruptcy)\n",
    "banrp_nonzero_feat, banrp_num_feat = banrp_feat.shape\n",
    "banrp_feat = preprocessing.sparse_to_tuple(banrp_feat.tocoo())"
   ]
  },
  {
   "cell_type": "code",
   "execution_count": 20,
   "metadata": {
    "colab": {
     "base_uri": "https://localhost:8080/",
     "height": 34
    },
    "colab_type": "code",
    "executionInfo": {
     "elapsed": 2921,
     "status": "ok",
     "timestamp": 1556062150563,
     "user": {
      "displayName": "Ishank Mishra",
      "photoUrl": "",
      "userId": "10943312555956850945"
     },
     "user_tz": 420
    },
    "id": "wZNq4LCZxd8D",
    "outputId": "2145b4e6-d25f-4841-9f06-d95455adad38"
   },
   "outputs": [
    {
     "name": "stdout",
     "output_type": "stream",
     "text": [
      "Edge types: 14\n"
     ]
    }
   ],
   "source": [
    "# data representation\n",
    "num_feat = {\n",
    "    0: pers_num_feat,\n",
    "    1: comp_num_feat,\n",
    "    2: banrp_num_feat\n",
    "}\n",
    "nonzero_feat = {\n",
    "    0: pers_nonzero_feat,\n",
    "    1: comp_nonzero_feat,\n",
    "    2: banrp_nonzero_feat\n",
    "}\n",
    "feat = {\n",
    "    0: pers_feat,\n",
    "    1: comp_feat,\n",
    "    2: banrp_feat\n",
    "}\n",
    "\n",
    "edge_type2dim = {k: [adj.shape for adj in adjs] for k, adjs in adj_mats_orig.items()}\n",
    "edge_type2decoder = {\n",
    "#     (0, 0): 'bilinear',\n",
    "    (0, 1): 'dedicom',\n",
    "    (1, 0): 'dedicom',\n",
    "    (1, 1): 'dedicom',\n",
    "    (1, 2): 'bilinear',\n",
    "    (2, 1): 'bilinear'\n",
    "}\n",
    "\n",
    "edge_types = {k: len(v) for k, v in adj_mats_orig.items()}\n",
    "num_edge_types = sum(edge_types.values())\n",
    "print(\"Edge types:\", \"%d\" % num_edge_types)"
   ]
  },
  {
   "cell_type": "code",
   "execution_count": 21,
   "metadata": {
    "colab": {
     "base_uri": "https://localhost:8080/",
     "height": 34
    },
    "colab_type": "code",
    "executionInfo": {
     "elapsed": 2909,
     "status": "ok",
     "timestamp": 1556062150564,
     "user": {
      "displayName": "Ishank Mishra",
      "photoUrl": "",
      "userId": "10943312555956850945"
     },
     "user_tz": 420
    },
    "id": "wzfpJAjoxd8G",
    "outputId": "17f6c4b3-3e06-4421-ee0d-b4465310978d"
   },
   "outputs": [
    {
     "data": {
      "text/plain": [
       "{(0, 1): 4, (1, 0): 4, (1, 1): 4, (1, 2): 1, (2, 1): 1}"
      ]
     },
     "execution_count": 21,
     "metadata": {
      "tags": []
     },
     "output_type": "execute_result"
    }
   ],
   "source": [
    "edge_types"
   ]
  },
  {
   "cell_type": "code",
   "execution_count": 0,
   "metadata": {
    "colab": {},
    "colab_type": "code",
    "id": "DEw_Z9SVxd8I"
   },
   "outputs": [],
   "source": [
    "###########################################################\n",
    "#\n",
    "# Settings and placeholders\n",
    "#\n",
    "###########################################################\n",
    "\n",
    "flags = tf.app.flags\n",
    "FLAGS = flags.FLAGS\n",
    "flags.DEFINE_integer('neg_sample_size', 1, 'Negative sample size.')\n",
    "flags.DEFINE_float('learning_rate', 0.001, 'Initial learning rate.')\n",
    "flags.DEFINE_integer('epochs', 1, 'Number of epochs to train.')\n",
    "flags.DEFINE_integer('hidden1', 64, 'Number of units in hidden layer 1.')\n",
    "flags.DEFINE_integer('hidden2', 32, 'Number of units in hidden layer 2.')\n",
    "flags.DEFINE_float('weight_decay', 0, 'Weight for L2 loss on embedding matrix.')\n",
    "flags.DEFINE_float('dropout', 0.1, 'Dropout rate (1 - keep probability).')\n",
    "flags.DEFINE_float('max_margin', 0.1, 'Max margin parameter in hinge loss')\n",
    "flags.DEFINE_integer('batch_size', 64, 'minibatch size.')\n",
    "flags.DEFINE_boolean('bias', True, 'Bias term.')\n",
    "# Important -- Do not evaluate/print validation performance every iteration as it can take\n",
    "# substantial amount of time\n",
    "PRINT_PROGRESS_EVERY = 150"
   ]
  },
  {
   "cell_type": "code",
   "execution_count": 0,
   "metadata": {
    "colab": {},
    "colab_type": "code",
    "id": "SAq7xYmLxd8K"
   },
   "outputs": [],
   "source": []
  },
  {
   "cell_type": "code",
   "execution_count": 23,
   "metadata": {
    "colab": {
     "base_uri": "https://localhost:8080/",
     "height": 425
    },
    "colab_type": "code",
    "executionInfo": {
     "elapsed": 2887,
     "status": "ok",
     "timestamp": 1556062150570,
     "user": {
      "displayName": "Ishank Mishra",
      "photoUrl": "",
      "userId": "10943312555956850945"
     },
     "user_tz": 420
    },
    "id": "HnuY9zN7xd8M",
    "outputId": "c2f8eaf7-2c83-434a-b8e2-a7b96c9cfa1a"
   },
   "outputs": [
    {
     "name": "stdout",
     "output_type": "stream",
     "text": [
      "Defining placeholders\n"
     ]
    },
    {
     "data": {
      "text/plain": [
       "{'adj_mats_0,1,0': <tensorflow.python.framework.sparse_tensor.SparseTensor at 0x7f7c30f0a710>,\n",
       " 'adj_mats_0,1,1': <tensorflow.python.framework.sparse_tensor.SparseTensor at 0x7f7be1da8f28>,\n",
       " 'adj_mats_0,1,2': <tensorflow.python.framework.sparse_tensor.SparseTensor at 0x7f7c30f0a7f0>,\n",
       " 'adj_mats_0,1,3': <tensorflow.python.framework.sparse_tensor.SparseTensor at 0x7f7be1db79e8>,\n",
       " 'adj_mats_1,0,0': <tensorflow.python.framework.sparse_tensor.SparseTensor at 0x7f7be1db7b38>,\n",
       " 'adj_mats_1,0,1': <tensorflow.python.framework.sparse_tensor.SparseTensor at 0x7f7be1babf98>,\n",
       " 'adj_mats_1,0,2': <tensorflow.python.framework.sparse_tensor.SparseTensor at 0x7f7be1babf60>,\n",
       " 'adj_mats_1,0,3': <tensorflow.python.framework.sparse_tensor.SparseTensor at 0x7f7be1baceb8>,\n",
       " 'adj_mats_1,1,0': <tensorflow.python.framework.sparse_tensor.SparseTensor at 0x7f7be1bacf60>,\n",
       " 'adj_mats_1,1,1': <tensorflow.python.framework.sparse_tensor.SparseTensor at 0x7f7be28dd780>,\n",
       " 'adj_mats_1,1,2': <tensorflow.python.framework.sparse_tensor.SparseTensor at 0x7f7be28ddbe0>,\n",
       " 'adj_mats_1,1,3': <tensorflow.python.framework.sparse_tensor.SparseTensor at 0x7f7be28ddc18>,\n",
       " 'adj_mats_1,2,0': <tensorflow.python.framework.sparse_tensor.SparseTensor at 0x7f7be28f14e0>,\n",
       " 'adj_mats_2,1,0': <tensorflow.python.framework.sparse_tensor.SparseTensor at 0x7f7be28f1940>,\n",
       " 'batch': <tf.Tensor 'batch:0' shape=<unknown> dtype=int64>,\n",
       " 'batch_col_edge_type': <tf.Tensor 'batch_col_edge_type:0' shape=() dtype=int64>,\n",
       " 'batch_edge_type_idx': <tf.Tensor 'batch_edge_type_idx:0' shape=() dtype=int64>,\n",
       " 'batch_row_edge_type': <tf.Tensor 'batch_row_edge_type:0' shape=() dtype=int64>,\n",
       " 'degrees': <tf.Tensor 'Placeholder:0' shape=<unknown> dtype=int64>,\n",
       " 'dropout': <tf.Tensor 'PlaceholderWithDefault:0' shape=() dtype=float32>,\n",
       " 'feat_0': <tensorflow.python.framework.sparse_tensor.SparseTensor at 0x7f7be28f1fd0>,\n",
       " 'feat_1': <tensorflow.python.framework.sparse_tensor.SparseTensor at 0x7f7be28f1ef0>,\n",
       " 'feat_2': <tensorflow.python.framework.sparse_tensor.SparseTensor at 0x7f7be2882b70>}"
      ]
     },
     "execution_count": 23,
     "metadata": {
      "tags": []
     },
     "output_type": "execute_result"
    }
   ],
   "source": [
    "print(\"Defining placeholders\")\n",
    "placeholders = construct_placeholders(edge_types)\n",
    "tf.app.flags.DEFINE_string('f', '', 'kernel')\n",
    "placeholders"
   ]
  },
  {
   "cell_type": "code",
   "execution_count": 24,
   "metadata": {
    "colab": {
     "base_uri": "https://localhost:8080/",
     "height": 1496
    },
    "colab_type": "code",
    "executionInfo": {
     "elapsed": 3233,
     "status": "ok",
     "timestamp": 1556062150927,
     "user": {
      "displayName": "Ishank Mishra",
      "photoUrl": "",
      "userId": "10943312555956850945"
     },
     "user_tz": 420
    },
    "id": "r1GTlRB1xd8O",
    "outputId": "54ca3299-d50d-4e0d-f88b-f9baa9737e95"
   },
   "outputs": [
    {
     "name": "stdout",
     "output_type": "stream",
     "text": [
      "Create minibatch iterator\n",
      "Minibatch edge type: (0, 1, 0)\n",
      "Constructing test edges= 0000/0142\n",
      "Constructing val edges= 0000/0142\n",
      "Train edges= 2563\n",
      "Val edges= 0142\n",
      "Test edges= 0142\n",
      "Minibatch edge type: (0, 1, 1)\n",
      "Constructing test edges= 0000/0284\n",
      "Constructing val edges= 0000/0284\n",
      "Train edges= 5117\n",
      "Val edges= 0284\n",
      "Test edges= 0284\n",
      "Minibatch edge type: (0, 1, 2)\n",
      "Constructing test edges= 0000/0050\n",
      "Constructing val edges= 0000/0050\n",
      "Train edges= 0276\n",
      "Val edges= 0050\n",
      "Test edges= 0050\n",
      "Minibatch edge type: (0, 1, 3)\n",
      "Constructing test edges= 0000/0091\n",
      "Constructing val edges= 0000/0091\n",
      "Train edges= 1640\n",
      "Val edges= 0091\n",
      "Test edges= 0091\n",
      "Minibatch edge type: (1, 0, 0)\n",
      "Constructing test edges= 0000/0142\n",
      "Constructing val edges= 0000/0142\n",
      "Train edges= 2563\n",
      "Val edges= 0142\n",
      "Test edges= 0142\n",
      "Minibatch edge type: (1, 0, 1)\n",
      "Constructing test edges= 0000/0284\n",
      "Constructing val edges= 0000/0284\n",
      "Train edges= 5117\n",
      "Val edges= 0284\n",
      "Test edges= 0284\n",
      "Minibatch edge type: (1, 0, 2)\n",
      "Constructing test edges= 0000/0050\n",
      "Constructing val edges= 0000/0050\n",
      "Train edges= 0276\n",
      "Val edges= 0050\n",
      "Test edges= 0050\n",
      "Minibatch edge type: (1, 0, 3)\n",
      "Constructing test edges= 0000/0091\n",
      "Constructing val edges= 0000/0091\n",
      "Train edges= 1640\n",
      "Val edges= 0091\n",
      "Test edges= 0091\n",
      "Minibatch edge type: (1, 1, 0)\n",
      "Constructing test edges= 0000/0108\n",
      "Constructing val edges= 0000/0108\n",
      "Train edges= 1963\n",
      "Val edges= 0108\n",
      "Test edges= 0108\n",
      "Minibatch edge type: (1, 1, 1)\n",
      "Constructing test edges= 0000/0088\n",
      "Constructing val edges= 0000/0088\n",
      "Train edges= 1585\n",
      "Val edges= 0088\n",
      "Test edges= 0088\n",
      "Minibatch edge type: (1, 1, 2)\n",
      "Constructing test edges= 0000/0108\n",
      "Constructing val edges= 0000/0108\n",
      "Train edges= 1963\n",
      "Val edges= 0108\n",
      "Test edges= 0108\n",
      "Minibatch edge type: (1, 1, 3)\n",
      "Constructing test edges= 0000/0088\n",
      "Constructing val edges= 0000/0088\n",
      "Train edges= 1585\n",
      "Val edges= 0088\n",
      "Test edges= 0088\n",
      "Minibatch edge type: (1, 2, 0)\n",
      "Constructing test edges= 0000/0050\n",
      "Constructing test edges= 0000/0050\n",
      "Constructing val edges= 0000/0050\n",
      "Train edges= 0100\n",
      "Val edges= 0050\n",
      "Test edges= 0050\n",
      "Minibatch edge type: (2, 1, 0)\n",
      "Constructing test edges= 0000/0050\n",
      "Constructing val edges= 0000/0050\n",
      "Constructing val edges= 0000/0050\n",
      "Train edges= 0100\n",
      "Val edges= 0050\n",
      "Test edges= 0050\n"
     ]
    }
   ],
   "source": [
    "# Create minibatch iterator\n",
    "\n",
    "print(\"Create minibatch iterator\")\n",
    "minibatch = EdgeMinibatchIterator(\n",
    "    adj_mats=adj_mats_orig,\n",
    "    feat=feat,\n",
    "    edge_types=edge_types,\n",
    "    batch_size=FLAGS.batch_size,\n",
    "    val_test_size=val_test_size\n",
    ")"
   ]
  },
  {
   "cell_type": "code",
   "execution_count": 25,
   "metadata": {
    "colab": {
     "base_uri": "https://localhost:8080/",
     "height": 207
    },
    "colab_type": "code",
    "executionInfo": {
     "elapsed": 4317,
     "status": "ok",
     "timestamp": 1556062152021,
     "user": {
      "displayName": "Ishank Mishra",
      "photoUrl": "",
      "userId": "10943312555956850945"
     },
     "user_tz": 420
    },
    "id": "ZtV3vRbsxd8R",
    "outputId": "1e56d9b0-312c-4a50-ca87-8b9211f6e3c2"
   },
   "outputs": [
    {
     "name": "stdout",
     "output_type": "stream",
     "text": [
      "Create model\n",
      "WARNING:tensorflow:From /usr/local/lib/python3.6/dist-packages/tensorflow/python/framework/op_def_library.py:263: colocate_with (from tensorflow.python.framework.ops) is deprecated and will be removed in a future version.\n",
      "Instructions for updating:\n",
      "Colocations handled automatically by placer.\n",
      "WARNING:tensorflow:From /content/layers.py:93: calling l2_normalize (from tensorflow.python.ops.nn_impl) with dim is deprecated and will be removed in a future version.\n",
      "Instructions for updating:\n",
      "dim is deprecated, use axis instead\n",
      "WARNING:tensorflow:From /content/layers.py:112: calling dropout (from tensorflow.python.ops.nn_ops) with keep_prob is deprecated and will be removed in a future version.\n",
      "Instructions for updating:\n",
      "Please use `rate` instead of `keep_prob`. Rate should be set to `rate = 1 - keep_prob`.\n"
     ]
    }
   ],
   "source": [
    "# create model\n",
    "\n",
    "print(\"Create model\")\n",
    "model = DecagonModel(\n",
    "    placeholders=placeholders,\n",
    "    num_feat=num_feat,\n",
    "    nonzero_feat=nonzero_feat,\n",
    "    edge_types=edge_types,\n",
    "    decoders=edge_type2decoder,\n",
    ")"
   ]
  },
  {
   "cell_type": "code",
   "execution_count": 26,
   "metadata": {
    "colab": {
     "base_uri": "https://localhost:8080/",
     "height": 190
    },
    "colab_type": "code",
    "executionInfo": {
     "elapsed": 9527,
     "status": "ok",
     "timestamp": 1556062157241,
     "user": {
      "displayName": "Ishank Mishra",
      "photoUrl": "",
      "userId": "10943312555956850945"
     },
     "user_tz": 420
    },
    "id": "f8wRvxGfxd8d",
    "outputId": "9840e3c9-a75c-4d9f-f6a6-84bb9b80906d"
   },
   "outputs": [
    {
     "name": "stdout",
     "output_type": "stream",
     "text": [
      "Create optimizer\n",
      "WARNING:tensorflow:tf.op_scope(values, name, default_name) is deprecated, use tf.name_scope(name, default_name, values)\n",
      "WARNING:tensorflow:tf.op_scope(values, name, default_name) is deprecated, use tf.name_scope(name, default_name, values)\n",
      "WARNING:tensorflow:From /usr/local/lib/python3.6/dist-packages/tensorflow/python/ops/array_grad.py:425: to_int32 (from tensorflow.python.ops.math_ops) is deprecated and will be removed in a future version.\n",
      "Instructions for updating:\n",
      "Use tf.cast instead.\n"
     ]
    },
    {
     "name": "stderr",
     "output_type": "stream",
     "text": [
      "/usr/local/lib/python3.6/dist-packages/tensorflow/python/ops/gradients_impl.py:110: UserWarning: Converting sparse IndexedSlices to a dense Tensor of unknown shape. This may consume a large amount of memory.\n",
      "  \"Converting sparse IndexedSlices to a dense Tensor of unknown shape. \"\n"
     ]
    },
    {
     "name": "stdout",
     "output_type": "stream",
     "text": [
      "Initialize session\n"
     ]
    }
   ],
   "source": [
    "# create optimizer\n",
    "\n",
    "print(\"Create optimizer\")\n",
    "with tf.name_scope('optimizer'):\n",
    "    opt = DecagonOptimizer(\n",
    "        embeddings=model.embeddings,\n",
    "        latent_inters=model.latent_inters,\n",
    "        latent_varies=model.latent_varies,\n",
    "        degrees=degrees,\n",
    "        edge_types=edge_types,\n",
    "        edge_type2dim=edge_type2dim,\n",
    "        placeholders=placeholders,\n",
    "        batch_size=FLAGS.batch_size,\n",
    "        margin=FLAGS.max_margin\n",
    "    )\n",
    "\n",
    "print(\"Initialize session\")\n",
    "sess = tf.Session()\n",
    "# FileWriter(\"output\", sess.graph)\n",
    "sess.run(tf.global_variables_initializer())\n",
    "feed_dict = {}\n",
    "\n"
   ]
  },
  {
   "cell_type": "code",
   "execution_count": 27,
   "metadata": {
    "colab": {
     "base_uri": "https://localhost:8080/",
     "height": 3519
    },
    "colab_type": "code",
    "executionInfo": {
     "elapsed": 239029,
     "status": "ok",
     "timestamp": 1556062386754,
     "user": {
      "displayName": "Ishank Mishra",
      "photoUrl": "",
      "userId": "10943312555956850945"
     },
     "user_tz": 420
    },
    "id": "N2cp7Qvsxd8g",
    "outputId": "fbd7a834-d5a0-4f5e-a3c5-47c3cd77b973"
   },
   "outputs": [
    {
     "name": "stdout",
     "output_type": "stream",
     "text": [
      "Train model\n",
      "0.6033896125281124\n",
      "Epoch: 0001 Iter: 0001 Edge: 0005 train_loss= 6.09045 val_roc= 0.58387 val_auprc= 0.60339 val_apk= 0.56642 time= 1.50916\n",
      "0.6411672037983787\n",
      "Epoch: 0001 Iter: 0151 Edge: 0003 train_loss= 0.89725 val_roc= 0.64968 val_auprc= 0.64117 val_apk= 0.17386 time= 0.06793\n",
      "0.4823986154043643\n",
      "Epoch: 0001 Iter: 0301 Edge: 0000 train_loss= 1.67021 val_roc= 0.50927 val_auprc= 0.48240 val_apk= 0.11117 time= 0.07267\n",
      "0.6393083595907728\n",
      "Epoch: 0002 Iter: 0001 Edge: 0002 train_loss= 2.37152 val_roc= 0.52480 val_auprc= 0.63931 val_apk= 0.25207 time= 0.06503\n",
      "0.5292222599808052\n",
      "Epoch: 0002 Iter: 0151 Edge: 0001 train_loss= 1.19276 val_roc= 0.50046 val_auprc= 0.52922 val_apk= 0.11477 time= 0.08398\n",
      "0.8218483916483375\n",
      "Epoch: 0002 Iter: 0301 Edge: 0004 train_loss= 0.20800 val_roc= 0.86600 val_auprc= 0.82185 val_apk= 0.69132 time= 0.09293\n",
      "0.7991618950114889\n",
      "Epoch: 0003 Iter: 0001 Edge: 0004 train_loss= 0.19427 val_roc= 0.86282 val_auprc= 0.79916 val_apk= 0.62566 time= 0.09515\n",
      "0.6496513350459834\n",
      "Epoch: 0003 Iter: 0151 Edge: 0000 train_loss= 0.32403 val_roc= 0.71206 val_auprc= 0.64965 val_apk= 0.37384 time= 0.07204\n",
      "0.6648631916939632\n",
      "Epoch: 0003 Iter: 0301 Edge: 0000 train_loss= 0.34914 val_roc= 0.72329 val_auprc= 0.66486 val_apk= 0.45107 time= 0.07112\n",
      "0.9480119530759319\n",
      "Epoch: 0004 Iter: 0001 Edge: 0007 train_loss= 1.12900 val_roc= 0.93829 val_auprc= 0.94801 val_apk= 1.00000 time= 0.08023\n",
      "0.8763388947040052\n",
      "Epoch: 0004 Iter: 0151 Edge: 0005 train_loss= 0.10000 val_roc= 0.89533 val_auprc= 0.87634 val_apk= 0.82364 time= 0.13869\n",
      "0.8533483661184864\n",
      "Epoch: 0004 Iter: 0301 Edge: 0004 train_loss= 0.10617 val_roc= 0.88380 val_auprc= 0.85335 val_apk= 0.77974 time= 0.10002\n",
      "0.8395455234685744\n",
      "Epoch: 0005 Iter: 0001 Edge: 0010 train_loss= 0.67225 val_roc= 0.82313 val_auprc= 0.83955 val_apk= 0.85853 time= 0.10468\n",
      "0.8722867659206268\n",
      "Epoch: 0005 Iter: 0151 Edge: 0008 train_loss= 0.03636 val_roc= 0.86060 val_auprc= 0.87229 val_apk= 0.89780 time= 0.07220\n",
      "0.7213956472706655\n",
      "Epoch: 0005 Iter: 0301 Edge: 0000 train_loss= 0.00000 val_roc= 0.76448 val_auprc= 0.72140 val_apk= 0.57038 time= 0.07107\n",
      "0.953925028646682\n",
      "Epoch: 0006 Iter: 0001 Edge: 0011 train_loss= 0.91812 val_roc= 0.95442 val_auprc= 0.95393 val_apk= 0.94113 time= 0.07756\n",
      "0.7250817724120169\n",
      "Epoch: 0006 Iter: 0151 Edge: 0000 train_loss= 0.35018 val_roc= 0.76056 val_auprc= 0.72508 val_apk= 0.57201 time= 0.07238\n",
      "0.8726915506728289\n",
      "Epoch: 0006 Iter: 0301 Edge: 0004 train_loss= 0.41282 val_roc= 0.88722 val_auprc= 0.87269 val_apk= 0.87727 time= 0.08948\n",
      "0.8585627472221495\n",
      "Epoch: 0007 Iter: 0001 Edge: 0004 train_loss= 0.30000 val_roc= 0.88479 val_auprc= 0.85856 val_apk= 0.80160 time= 0.09395\n",
      "0.886060594837539\n",
      "Epoch: 0007 Iter: 0151 Edge: 0010 train_loss= 1.14764 val_roc= 0.86420 val_auprc= 0.88606 val_apk= 0.94137 time= 0.08316\n",
      "0.6652050650881669\n",
      "Epoch: 0007 Iter: 0301 Edge: 0001 train_loss= 0.06501 val_roc= 0.56083 val_auprc= 0.66521 val_apk= 0.65334 time= 0.08180\n",
      "0.9139901477832513\n",
      "Epoch: 0008 Iter: 0001 Edge: 0006 train_loss= 1.40000 val_roc= 0.86120 val_auprc= 0.91399 val_apk= 0.79905 time= 0.06944\n",
      "0.9476921948491911\n",
      "Epoch: 0008 Iter: 0151 Edge: 0007 train_loss= 0.54019 val_roc= 0.94107 val_auprc= 0.94769 val_apk= 0.97056 time= 0.08056\n",
      "0.9166593373393734\n",
      "Epoch: 0008 Iter: 0301 Edge: 0005 train_loss= 0.61841 val_roc= 0.92011 val_auprc= 0.91666 val_apk= 0.94679 time= 0.12407\n",
      "0.8831650292021783\n",
      "Epoch: 0009 Iter: 0001 Edge: 0010 train_loss= 0.03698 val_roc= 0.85991 val_auprc= 0.88317 val_apk= 0.95992 time= 0.09310\n",
      "0.8715579721184697\n",
      "Epoch: 0009 Iter: 0151 Edge: 0004 train_loss= 0.40000 val_roc= 0.89828 val_auprc= 0.87156 val_apk= 0.84137 time= 0.09150\n",
      "0.9177943326255396\n",
      "Epoch: 0009 Iter: 0301 Edge: 0005 train_loss= 0.40000 val_roc= 0.91658 val_auprc= 0.91779 val_apk= 1.00000 time= 0.12476\n",
      "0.6128835341365463\n",
      "Epoch: 0010 Iter: 0001 Edge: 0002 train_loss= 0.02533 val_roc= 0.45520 val_auprc= 0.61288 val_apk= 0.19647 time= 0.06324\n",
      "0.8692328186945291\n",
      "Epoch: 0010 Iter: 0151 Edge: 0004 train_loss= 0.40000 val_roc= 0.90438 val_auprc= 0.86923 val_apk= 0.81777 time= 0.09504\n",
      "0.6963593899002093\n",
      "Epoch: 0010 Iter: 0301 Edge: 0001 train_loss= 0.10000 val_roc= 0.57551 val_auprc= 0.69636 val_apk= 0.85217 time= 0.08062\n",
      "0.8982268405248178\n",
      "Epoch: 0011 Iter: 0001 Edge: 0008 train_loss= 0.04239 val_roc= 0.89172 val_auprc= 0.89823 val_apk= 0.91462 time= 0.06601\n",
      "0.7043499051261884\n",
      "Epoch: 0011 Iter: 0151 Edge: 0001 train_loss= 0.00000 val_roc= 0.59971 val_auprc= 0.70435 val_apk= 0.81940 time= 0.08421\n",
      "0.6615640146044921\n",
      "Epoch: 0011 Iter: 0301 Edge: 0001 train_loss= 0.00000 val_roc= 0.57227 val_auprc= 0.66156 val_apk= 0.62005 time= 0.08711\n",
      "0.6965535218852074\n",
      "Epoch: 0012 Iter: 0001 Edge: 0013 train_loss= 6.40000 val_roc= 0.68040 val_auprc= 0.69655 val_apk= 0.48968 time= 0.05974\n",
      "0.9518230077120293\n",
      "Epoch: 0012 Iter: 0151 Edge: 0007 train_loss= 0.56597 val_roc= 0.94723 val_auprc= 0.95182 val_apk= 0.96992 time= 0.08768\n",
      "0.8844409258961646\n",
      "Epoch: 0012 Iter: 0301 Edge: 0004 train_loss= 0.50000 val_roc= 0.91376 val_auprc= 0.88444 val_apk= 0.82493 time= 0.09260\n",
      "0.8749592768217798\n",
      "Epoch: 0013 Iter: 0001 Edge: 0010 train_loss= 0.25144 val_roc= 0.84834 val_auprc= 0.87496 val_apk= 0.94085 time= 0.08468\n",
      "0.6920072119430472\n",
      "Epoch: 0013 Iter: 0151 Edge: 0001 train_loss= 0.00000 val_roc= 0.59617 val_auprc= 0.69201 val_apk= 0.73137 time= 0.08386\n",
      "0.8623771095351814\n",
      "Epoch: 0013 Iter: 0301 Edge: 0008 train_loss= 0.00000 val_roc= 0.85245 val_auprc= 0.86238 val_apk= 0.89766 time= 0.06494\n",
      "0.5342765909325035\n",
      "Epoch: 0014 Iter: 0001 Edge: 0012 train_loss= 0.00000 val_roc= 0.51640 val_auprc= 0.53428 val_apk= 0.28430 time= 0.04376\n",
      "0.7814604373643123\n",
      "Epoch: 0014 Iter: 0151 Edge: 0000 train_loss= 0.00000 val_roc= 0.79994 val_auprc= 0.78146 val_apk= 0.67513 time= 0.07293\n",
      "0.6981228785837538\n",
      "Epoch: 0014 Iter: 0301 Edge: 0001 train_loss= 0.00000 val_roc= 0.60778 val_auprc= 0.69812 val_apk= 0.73447 time= 0.09210\n",
      "0.9806288248283982\n",
      "Epoch: 0015 Iter: 0001 Edge: 0011 train_loss= 0.21843 val_roc= 0.97056 val_auprc= 0.98063 val_apk= 1.00000 time= 0.08950\n",
      "0.6392469105155214\n",
      "Epoch: 0015 Iter: 0151 Edge: 0003 train_loss= 0.00000 val_roc= 0.59546 val_auprc= 0.63925 val_apk= 0.24323 time= 0.07447\n",
      "0.8747777696765752\n",
      "Epoch: 0015 Iter: 0301 Edge: 0008 train_loss= 0.03302 val_roc= 0.86025 val_auprc= 0.87478 val_apk= 0.89718 time= 0.06669\n",
      "0.897412406349942\n",
      "Epoch: 0016 Iter: 0001 Edge: 0004 train_loss= 0.30000 val_roc= 0.92239 val_auprc= 0.89741 val_apk= 0.87373 time= 0.08995\n",
      "0.8148243887180284\n",
      "Epoch: 0016 Iter: 0151 Edge: 0000 train_loss= 0.08901 val_roc= 0.81184 val_auprc= 0.81482 val_apk= 0.79135 time= 0.07189\n",
      "0.797614143930518\n",
      "Epoch: 0016 Iter: 0301 Edge: 0000 train_loss= 0.08376 val_roc= 0.80376 val_auprc= 0.79761 val_apk= 0.73560 time= 0.07392\n",
      "0.9195295467584625\n",
      "Epoch: 0017 Iter: 0001 Edge: 0006 train_loss= 1.20000 val_roc= 0.87720 val_auprc= 0.91953 val_apk= 0.79905 time= 0.06839\n",
      "0.905909718444061\n",
      "Epoch: 0017 Iter: 0151 Edge: 0004 train_loss= 0.32988 val_roc= 0.92298 val_auprc= 0.90591 val_apk= 0.90230 time= 0.09387\n",
      "0.7917360135179512\n",
      "Epoch: 0017 Iter: 0301 Edge: 0000 train_loss= 0.00000 val_roc= 0.80465 val_auprc= 0.79174 val_apk= 0.72519 time= 0.07152\n",
      "0.5325312147676362\n",
      "Epoch: 0018 Iter: 0001 Edge: 0012 train_loss= 0.00000 val_roc= 0.53480 val_auprc= 0.53253 val_apk= 0.26354 time= 0.05012\n",
      "0.7891567981185812\n",
      "Epoch: 0018 Iter: 0151 Edge: 0000 train_loss= 0.01413 val_roc= 0.80733 val_auprc= 0.78916 val_apk= 0.70934 time= 0.07099\n",
      "0.8632226796943396\n",
      "Epoch: 0018 Iter: 0301 Edge: 0008 train_loss= 0.00000 val_roc= 0.84671 val_auprc= 0.86322 val_apk= 0.88877 time= 0.06631\n",
      "0.6095098039215687\n",
      "Epoch: 0019 Iter: 0001 Edge: 0002 train_loss= 0.00000 val_roc= 0.41920 val_auprc= 0.60951 val_apk= 0.18154 time= 0.07011\n",
      "0.9591642869081349\n",
      "Epoch: 0019 Iter: 0151 Edge: 0007 train_loss= 0.66057 val_roc= 0.95665 val_auprc= 0.95916 val_apk= 0.96710 time= 0.08813\n",
      "0.93590439945407\n",
      "Epoch: 0019 Iter: 0301 Edge: 0005 train_loss= 0.62718 val_roc= 0.93018 val_auprc= 0.93590 val_apk= 0.97919 time= 0.13775\n",
      "0.9597818433326983\n",
      "Epoch: 0020 Iter: 0001 Edge: 0007 train_loss= 0.50000 val_roc= 0.95653 val_auprc= 0.95978 val_apk= 0.96785 time= 0.08048\n",
      "0.871149461105424\n",
      "Epoch: 0020 Iter: 0151 Edge: 0010 train_loss= 0.10000 val_roc= 0.85279 val_auprc= 0.87115 val_apk= 0.94191 time= 0.08036\n",
      "0.8712720863362159\n",
      "Epoch: 0020 Iter: 0301 Edge: 0010 train_loss= 0.01294 val_roc= 0.84971 val_auprc= 0.87127 val_apk= 0.92138 time= 0.08440\n",
      "Optimization finished!\n",
      "0.8596733757329441\n",
      "Edge type= [00, 01, 00]\n",
      "Edge type: 0000 Test AUROC score 0.83228\n",
      "Edge type: 0000 Test AUPRC score 0.85967\n",
      "Edge type: 0000 Test AP@k score 0.93657\n",
      "\n",
      "0.7005523736802942\n",
      "Edge type= [00, 01, 01]\n",
      "Edge type: 0001 Test AUROC score 0.58923\n",
      "Edge type: 0001 Test AUPRC score 0.70055\n",
      "Edge type: 0001 Test AP@k score 0.79041\n",
      "\n",
      "0.656935154217763\n",
      "Edge type= [00, 01, 02]\n",
      "Edge type: 0002 Test AUROC score 0.52640\n",
      "Edge type: 0002 Test AUPRC score 0.65694\n",
      "Edge type: 0002 Test AP@k score 0.26117\n",
      "\n",
      "0.6518957389743801\n",
      "Edge type= [00, 01, 03]\n",
      "Edge type: 0003 Test AUROC score 0.53520\n",
      "Edge type: 0003 Test AUPRC score 0.65190\n",
      "Edge type: 0003 Test AP@k score 0.38421\n",
      "\n",
      "0.931258619656784\n",
      "Edge type= [01, 00, 00]\n",
      "Edge type: 0004 Test AUROC score 0.94495\n",
      "Edge type: 0004 Test AUPRC score 0.93126\n",
      "Edge type: 0004 Test AP@k score 0.92745\n",
      "\n",
      "0.9223241127184285\n",
      "Edge type= [01, 00, 01]\n",
      "Edge type: 0005 Test AUROC score 0.91874\n",
      "Edge type: 0005 Test AUPRC score 0.92232\n",
      "Edge type: 0005 Test AP@k score 0.97457\n",
      "\n",
      "0.8452015168032851\n",
      "Edge type= [01, 00, 02]\n",
      "Edge type: 0006 Test AUROC score 0.75960\n",
      "Edge type: 0006 Test AUPRC score 0.84520\n",
      "Edge type: 0006 Test AP@k score 0.64520\n",
      "\n",
      "0.9380303186490778\n",
      "Edge type= [01, 00, 03]\n",
      "Edge type: 0007 Test AUROC score 0.92531\n",
      "Edge type: 0007 Test AUPRC score 0.93803\n",
      "Edge type: 0007 Test AP@k score 0.96856\n",
      "\n",
      "0.8898793064497484\n",
      "Edge type= [01, 01, 00]\n",
      "Edge type: 0008 Test AUROC score 0.85768\n",
      "Edge type: 0008 Test AUPRC score 0.88988\n",
      "Edge type: 0008 Test AP@k score 0.96992\n",
      "\n",
      "0.987226319346082\n",
      "Edge type= [01, 01, 01]\n",
      "Edge type: 0009 Test AUROC score 0.98283\n",
      "Edge type: 0009 Test AUPRC score 0.98723\n",
      "Edge type: 0009 Test AP@k score 1.00000\n",
      "\n",
      "0.9066918083035336\n",
      "Edge type= [01, 01, 02]\n",
      "Edge type: 0010 Test AUROC score 0.89266\n",
      "Edge type: 0010 Test AUPRC score 0.90669\n",
      "Edge type: 0010 Test AP@k score 0.95199\n",
      "\n",
      "0.9611555036946148\n",
      "Edge type= [01, 01, 03]\n",
      "Edge type: 0011 Test AUROC score 0.96191\n",
      "Edge type: 0011 Test AUPRC score 0.96116\n",
      "Edge type: 0011 Test AP@k score 0.96992\n",
      "\n",
      "0.4853222409681399\n",
      "Edge type= [01, 02, 00]\n",
      "Edge type: 0012 Test AUROC score 0.47640\n",
      "Edge type: 0012 Test AUPRC score 0.48532\n",
      "Edge type: 0012 Test AP@k score 0.23534\n",
      "\n",
      "0.6089530601479615\n",
      "Edge type= [02, 01, 00]\n",
      "Edge type: 0013 Test AUROC score 0.62960\n",
      "Edge type: 0013 Test AUPRC score 0.60895\n",
      "Edge type: 0013 Test AP@k score 0.36950\n",
      "\n"
     ]
    }
   ],
   "source": [
    "###########################################################\n",
    "#\n",
    "# Train model\n",
    "#\n",
    "###########################################################\n",
    "\n",
    "print(\"Train model\")\n",
    "for epoch in range(20):\n",
    "\n",
    "    minibatch.shuffle()\n",
    "    itr = 0\n",
    "    while not minibatch.end():\n",
    "        \n",
    "        # Construct feed dictionary\n",
    "        feed_dict = minibatch.next_minibatch_feed_dict(placeholders=placeholders)\n",
    "        feed_dict = minibatch.update_feed_dict(\n",
    "            feed_dict=feed_dict,\n",
    "            dropout=FLAGS.dropout,\n",
    "            placeholders=placeholders)\n",
    "\n",
    "        t = time.time()\n",
    "        \n",
    "        # Training step: run single weight update\n",
    "        outs = sess.run([opt.opt_op, opt.cost, opt.batch_edge_type_idx], feed_dict=feed_dict)\n",
    "        train_cost = outs[1]\n",
    "        batch_edge_type = outs[2]\n",
    "\n",
    "        if itr % PRINT_PROGRESS_EVERY == 0:\n",
    "            val_auc, val_auprc, val_apk = get_accuracy_scores(\n",
    "                minibatch.val_edges, minibatch.val_edges_false,\n",
    "                minibatch.idx2edge_type[minibatch.current_edge_type_idx])\n",
    "\n",
    "            print(\"Epoch:\", \"%04d\" % (epoch + 1), \"Iter:\", \"%04d\" % (itr + 1), \"Edge:\", \"%04d\" % batch_edge_type,\n",
    "                  \"train_loss=\", \"{:.5f}\".format(train_cost),\n",
    "                  \"val_roc=\", \"{:.5f}\".format(val_auc), \"val_auprc=\", \"{:.5f}\".format(val_auprc),\n",
    "                  \"val_apk=\", \"{:.5f}\".format(val_apk), \"time=\", \"{:.5f}\".format(time.time() - t))\n",
    "\n",
    "        itr += 1\n",
    "\n",
    "print(\"Optimization finished!\")\n",
    "\n",
    "for et in range(num_edge_types):\n",
    "    roc_score, auprc_score, apk_score = get_accuracy_scores(\n",
    "        minibatch.test_edges, minibatch.test_edges_false, minibatch.idx2edge_type[et])\n",
    "    print(\"Edge type=\", \"[%02d, %02d, %02d]\" % minibatch.idx2edge_type[et])\n",
    "    print(\"Edge type:\", \"%04d\" % et, \"Test AUROC score\", \"{:.5f}\".format(roc_score))\n",
    "    print(\"Edge type:\", \"%04d\" % et, \"Test AUPRC score\", \"{:.5f}\".format(auprc_score))\n",
    "    print(\"Edge type:\", \"%04d\" % et, \"Test AP@k score\", \"{:.5f}\".format(apk_score))\n",
    "    print()\n"
   ]
  },
  {
   "cell_type": "code",
   "execution_count": 0,
   "metadata": {
    "colab": {},
    "colab_type": "code",
    "id": "UUEaHhIUxd8i"
   },
   "outputs": [],
   "source": [
    "PRINT_PROGRESS_EVERY = 10"
   ]
  },
  {
   "cell_type": "code",
   "execution_count": 0,
   "metadata": {
    "colab": {},
    "colab_type": "code",
    "id": "wdM3aPzKxd8k"
   },
   "outputs": [],
   "source": []
  },
  {
   "cell_type": "code",
   "execution_count": 0,
   "metadata": {
    "colab": {},
    "colab_type": "code",
    "id": "skRJhSvixd8n"
   },
   "outputs": [],
   "source": []
  },
  {
   "cell_type": "code",
   "execution_count": 0,
   "metadata": {
    "colab": {},
    "colab_type": "code",
    "id": "MQ8XxPXLxd8p"
   },
   "outputs": [],
   "source": []
  },
  {
   "cell_type": "code",
   "execution_count": 0,
   "metadata": {
    "colab": {},
    "colab_type": "code",
    "id": "DBtytK9lxd8t"
   },
   "outputs": [],
   "source": []
  },
  {
   "cell_type": "code",
   "execution_count": 0,
   "metadata": {
    "colab": {},
    "colab_type": "code",
    "id": "Yem0s3agxd8w"
   },
   "outputs": [],
   "source": []
  }
 ],
 "metadata": {
  "accelerator": "GPU",
  "colab": {
   "name": "DLP-3.ipynb",
   "provenance": [],
   "version": "0.3.2"
  },
  "kernelspec": {
   "display_name": "Python 3",
   "language": "python",
   "name": "python3"
  },
  "language_info": {
   "codemirror_mode": {
    "name": "ipython",
    "version": 3
   },
   "file_extension": ".py",
   "mimetype": "text/x-python",
   "name": "python",
   "nbconvert_exporter": "python",
   "pygments_lexer": "ipython3",
   "version": "3.6.0"
  }
 },
 "nbformat": 4,
 "nbformat_minor": 1
}
